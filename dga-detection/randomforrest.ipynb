{
 "cells": [
  {
   "cell_type": "code",
   "execution_count": 23,
   "metadata": {},
   "outputs": [],
   "source": [
    "import math\n",
    "import pickle\n",
    "import string\n",
    "import json\n",
    "\n",
    "import pandas as pd\n",
    "from sklearn.ensemble import RandomForestClassifier\n",
    "from sklearn.model_selection import GridSearchCV, train_test_split, cross_val_score\n",
    "from sklearn.metrics import accuracy_score, confusion_matrix, classification_report, f1_score\n",
    "from sklearn.feature_extraction.text import CountVectorizer\n",
    "import numpy as np\n",
    "\n",
    "import matplotlib.pyplot as plt\n",
    "import seaborn as sns"
   ]
  },
  {
   "attachments": {},
   "cell_type": "markdown",
   "metadata": {},
   "source": [
    "### Feature engineering"
   ]
  },
  {
   "cell_type": "code",
   "execution_count": 2,
   "metadata": {},
   "outputs": [],
   "source": [
    "# Define a function to calculate the frequency of a character or n-gram in a domain\n",
    "def calculate_frequency(domain, character):\n",
    "    return domain.count(character)\n",
    "\n",
    "def calculate_entropy(domain):\n",
    "    domain_length = len(domain)\n",
    "    char_count = {char: domain.count(char) for char in set(domain)}\n",
    "    entropy = -sum((count/domain_length) * (math.log(count/domain_length, 2)) for count in char_count.values())\n",
    "    return entropy\n",
    "\n",
    "def count_digits(domain):\n",
    "    \"\"\"\n",
    "    Returns the number of digits in a given domain.\n",
    "    \"\"\"\n",
    "    return sum(char.isdigit() for char in domain)\n",
    "\n",
    "def count_consonants(domain):\n",
    "    \"\"\"\n",
    "    Returns the number of consonants in a given domain.\n",
    "    \"\"\"\n",
    "    consonants = set(string.ascii_lowercase) - set('aeiou')\n",
    "    return sum(char.isalpha() and char.lower() in consonants for char in domain)\n",
    "\n",
    "def count_vowels(domain):\n",
    "    \"\"\"\n",
    "    Returns the number of vowels in a given domain.\n",
    "    \"\"\"\n",
    "    vowels = set('aeiou')\n",
    "    return sum(char.isalpha() and char.lower() in vowels for char in domain)\n",
    "\n",
    "def feature_extraction(df: pd.DataFrame) -> pd.DataFrame:\n",
    "    # Feature Extraction: Domain Length after removing TLD\n",
    "    df['domain_length'] = df['domain'].apply(lambda x: len(x.split('.')[0]))\n",
    "\n",
    "    # # Feature Extraction: Subdomain Count\n",
    "    # df['subdomain_count'] = df['domain'].apply(lambda x: x.count('.') + 1)\n",
    "\n",
    "    # # Feature Extraction: Top-level Domain (TLD)\n",
    "    # df['tld'] = df['domain'].apply(lambda x: x.split('.')[-1])\n",
    "\n",
    "    # Feature Extraction: Lexical Features\n",
    "    df['num_digits'] = df['domain'].apply(count_digits)\n",
    "\n",
    "    df['num_consonants'] = df['domain'].apply(count_consonants)\n",
    "\n",
    "    df['num_vowels'] = df['domain'].apply(count_vowels)\n",
    "    \n",
    "    # Feature Extraction: Entropy\n",
    "    df['entropy'] = df['domain'].apply(lambda x: calculate_entropy(x.split('.')[0]))\n",
    "\n",
    "    return df"
   ]
  },
  {
   "cell_type": "code",
   "execution_count": 3,
   "metadata": {},
   "outputs": [],
   "source": [
    "# Load the domain dataset from CSV file\n",
    "df_legit = pd.read_csv(\"dga_dataset/dga_legit_domains.csv\", header=None, names=['domain'])\n",
    "df_dga = pd.read_csv(\"dga_dataset/dga_malicious_domains.csv\", header=None, names=['domain'])"
   ]
  },
  {
   "attachments": {},
   "cell_type": "markdown",
   "metadata": {},
   "source": [
    "#### Analysing the dga generated dataset"
   ]
  },
  {
   "cell_type": "code",
   "execution_count": 4,
   "metadata": {},
   "outputs": [
    {
     "data": {
      "text/html": [
       "<div>\n",
       "<style scoped>\n",
       "    .dataframe tbody tr th:only-of-type {\n",
       "        vertical-align: middle;\n",
       "    }\n",
       "\n",
       "    .dataframe tbody tr th {\n",
       "        vertical-align: top;\n",
       "    }\n",
       "\n",
       "    .dataframe thead th {\n",
       "        text-align: right;\n",
       "    }\n",
       "</style>\n",
       "<table border=\"1\" class=\"dataframe\">\n",
       "  <thead>\n",
       "    <tr style=\"text-align: right;\">\n",
       "      <th></th>\n",
       "      <th>domain_length</th>\n",
       "      <th>num_digits</th>\n",
       "      <th>num_consonants</th>\n",
       "      <th>num_vowels</th>\n",
       "      <th>entropy</th>\n",
       "    </tr>\n",
       "  </thead>\n",
       "  <tbody>\n",
       "    <tr>\n",
       "      <th>count</th>\n",
       "      <td>997.000000</td>\n",
       "      <td>997.000000</td>\n",
       "      <td>997.000000</td>\n",
       "      <td>997.000000</td>\n",
       "      <td>997.000000</td>\n",
       "    </tr>\n",
       "    <tr>\n",
       "      <th>mean</th>\n",
       "      <td>15.284855</td>\n",
       "      <td>0.381143</td>\n",
       "      <td>12.614845</td>\n",
       "      <td>5.367101</td>\n",
       "      <td>3.291199</td>\n",
       "    </tr>\n",
       "    <tr>\n",
       "      <th>std</th>\n",
       "      <td>6.451635</td>\n",
       "      <td>1.253575</td>\n",
       "      <td>4.486269</td>\n",
       "      <td>2.995251</td>\n",
       "      <td>0.418148</td>\n",
       "    </tr>\n",
       "    <tr>\n",
       "      <th>min</th>\n",
       "      <td>6.000000</td>\n",
       "      <td>0.000000</td>\n",
       "      <td>3.000000</td>\n",
       "      <td>0.000000</td>\n",
       "      <td>1.378783</td>\n",
       "    </tr>\n",
       "    <tr>\n",
       "      <th>25%</th>\n",
       "      <td>10.000000</td>\n",
       "      <td>0.000000</td>\n",
       "      <td>9.000000</td>\n",
       "      <td>3.000000</td>\n",
       "      <td>3.027169</td>\n",
       "    </tr>\n",
       "    <tr>\n",
       "      <th>50%</th>\n",
       "      <td>14.000000</td>\n",
       "      <td>0.000000</td>\n",
       "      <td>12.000000</td>\n",
       "      <td>5.000000</td>\n",
       "      <td>3.308271</td>\n",
       "    </tr>\n",
       "    <tr>\n",
       "      <th>75%</th>\n",
       "      <td>21.000000</td>\n",
       "      <td>0.000000</td>\n",
       "      <td>16.000000</td>\n",
       "      <td>9.000000</td>\n",
       "      <td>3.640224</td>\n",
       "    </tr>\n",
       "    <tr>\n",
       "      <th>max</th>\n",
       "      <td>26.000000</td>\n",
       "      <td>11.000000</td>\n",
       "      <td>25.000000</td>\n",
       "      <td>13.000000</td>\n",
       "      <td>4.262692</td>\n",
       "    </tr>\n",
       "  </tbody>\n",
       "</table>\n",
       "</div>"
      ],
      "text/plain": [
       "       domain_length  num_digits  num_consonants  num_vowels     entropy\n",
       "count     997.000000  997.000000      997.000000  997.000000  997.000000\n",
       "mean       15.284855    0.381143       12.614845    5.367101    3.291199\n",
       "std         6.451635    1.253575        4.486269    2.995251    0.418148\n",
       "min         6.000000    0.000000        3.000000    0.000000    1.378783\n",
       "25%        10.000000    0.000000        9.000000    3.000000    3.027169\n",
       "50%        14.000000    0.000000       12.000000    5.000000    3.308271\n",
       "75%        21.000000    0.000000       16.000000    9.000000    3.640224\n",
       "max        26.000000   11.000000       25.000000   13.000000    4.262692"
      ]
     },
     "execution_count": 4,
     "metadata": {},
     "output_type": "execute_result"
    }
   ],
   "source": [
    "df = feature_extraction(df_dga)\n",
    "df.describe()"
   ]
  },
  {
   "attachments": {},
   "cell_type": "markdown",
   "metadata": {},
   "source": [
    "#### Analysing the legit dataset"
   ]
  },
  {
   "cell_type": "code",
   "execution_count": 5,
   "metadata": {},
   "outputs": [
    {
     "data": {
      "text/html": [
       "<div>\n",
       "<style scoped>\n",
       "    .dataframe tbody tr th:only-of-type {\n",
       "        vertical-align: middle;\n",
       "    }\n",
       "\n",
       "    .dataframe tbody tr th {\n",
       "        vertical-align: top;\n",
       "    }\n",
       "\n",
       "    .dataframe thead th {\n",
       "        text-align: right;\n",
       "    }\n",
       "</style>\n",
       "<table border=\"1\" class=\"dataframe\">\n",
       "  <thead>\n",
       "    <tr style=\"text-align: right;\">\n",
       "      <th></th>\n",
       "      <th>domain_length</th>\n",
       "      <th>num_digits</th>\n",
       "      <th>num_consonants</th>\n",
       "      <th>num_vowels</th>\n",
       "      <th>entropy</th>\n",
       "    </tr>\n",
       "  </thead>\n",
       "  <tbody>\n",
       "    <tr>\n",
       "      <th>count</th>\n",
       "      <td>500.00000</td>\n",
       "      <td>500.00000</td>\n",
       "      <td>500.000000</td>\n",
       "      <td>500.000000</td>\n",
       "      <td>500.000000</td>\n",
       "    </tr>\n",
       "    <tr>\n",
       "      <th>mean</th>\n",
       "      <td>6.79400</td>\n",
       "      <td>0.09600</td>\n",
       "      <td>6.188000</td>\n",
       "      <td>3.588000</td>\n",
       "      <td>2.303051</td>\n",
       "    </tr>\n",
       "    <tr>\n",
       "      <th>std</th>\n",
       "      <td>2.93885</td>\n",
       "      <td>0.48503</td>\n",
       "      <td>2.105593</td>\n",
       "      <td>1.467844</td>\n",
       "      <td>0.580621</td>\n",
       "    </tr>\n",
       "    <tr>\n",
       "      <th>min</th>\n",
       "      <td>1.00000</td>\n",
       "      <td>0.00000</td>\n",
       "      <td>1.000000</td>\n",
       "      <td>0.000000</td>\n",
       "      <td>-0.000000</td>\n",
       "    </tr>\n",
       "    <tr>\n",
       "      <th>25%</th>\n",
       "      <td>5.00000</td>\n",
       "      <td>0.00000</td>\n",
       "      <td>5.000000</td>\n",
       "      <td>3.000000</td>\n",
       "      <td>1.918296</td>\n",
       "    </tr>\n",
       "    <tr>\n",
       "      <th>50%</th>\n",
       "      <td>6.00000</td>\n",
       "      <td>0.00000</td>\n",
       "      <td>6.000000</td>\n",
       "      <td>4.000000</td>\n",
       "      <td>2.321928</td>\n",
       "    </tr>\n",
       "    <tr>\n",
       "      <th>75%</th>\n",
       "      <td>8.00000</td>\n",
       "      <td>0.00000</td>\n",
       "      <td>7.000000</td>\n",
       "      <td>4.000000</td>\n",
       "      <td>2.725481</td>\n",
       "    </tr>\n",
       "    <tr>\n",
       "      <th>max</th>\n",
       "      <td>20.00000</td>\n",
       "      <td>4.00000</td>\n",
       "      <td>15.000000</td>\n",
       "      <td>9.000000</td>\n",
       "      <td>3.616875</td>\n",
       "    </tr>\n",
       "  </tbody>\n",
       "</table>\n",
       "</div>"
      ],
      "text/plain": [
       "       domain_length  num_digits  num_consonants  num_vowels     entropy\n",
       "count      500.00000   500.00000      500.000000  500.000000  500.000000\n",
       "mean         6.79400     0.09600        6.188000    3.588000    2.303051\n",
       "std          2.93885     0.48503        2.105593    1.467844    0.580621\n",
       "min          1.00000     0.00000        1.000000    0.000000   -0.000000\n",
       "25%          5.00000     0.00000        5.000000    3.000000    1.918296\n",
       "50%          6.00000     0.00000        6.000000    4.000000    2.321928\n",
       "75%          8.00000     0.00000        7.000000    4.000000    2.725481\n",
       "max         20.00000     4.00000       15.000000    9.000000    3.616875"
      ]
     },
     "execution_count": 5,
     "metadata": {},
     "output_type": "execute_result"
    }
   ],
   "source": [
    "df = feature_extraction(df_legit)\n",
    "df.describe()"
   ]
  },
  {
   "attachments": {},
   "cell_type": "markdown",
   "metadata": {},
   "source": [
    "Entropy and domain lenght in the legit dataset is lower than the entropy in the malicious dataset. Try doing it with the top level domain removed. "
   ]
  },
  {
   "attachments": {},
   "cell_type": "markdown",
   "metadata": {},
   "source": [
    "## Plotting the data"
   ]
  },
  {
   "cell_type": "code",
   "execution_count": 6,
   "metadata": {},
   "outputs": [
    {
     "data": {
      "image/png": "[encoded data removed]",
      "text/plain": [
       "<Figure size 1200x800 with 1 Axes>"
      ]
     },
     "metadata": {},
     "output_type": "display_data"
    }
   ],
   "source": [
    "# Plot the distribution of domain length for both legit and dga domains by label\n",
    "df_legit['label'] = 'legit'\n",
    "df_dga['label'] = 'dga'\n",
    "df = feature_extraction(pd.concat([df_legit, df_dga], ignore_index=True))\n",
    "\n",
    "fig, ax = plt.subplots(figsize=(12, 8))\n",
    "df.boxplot(column=['domain_length'], by=['label'], ax=ax)\n",
    "ax.set_xlabel('Label')\n",
    "ax.set_ylabel('Domain Length')\n",
    "plt.show()"
   ]
  },
  {
   "attachments": {},
   "cell_type": "markdown",
   "metadata": {},
   "source": [
    "We can see that the domain length for the DGA generated domains is much larger (on average) than the legit domains with a few exceptions considering the outliers of the legit domains. This depends on the algorithm that is used to generate the malicious domains. "
   ]
  },
  {
   "cell_type": "code",
   "execution_count": 7,
   "metadata": {},
   "outputs": [
    {
     "data": {
      "image/png": "[encoded data removed]",
      "text/plain": [
       "<Figure size 1200x800 with 1 Axes>"
      ]
     },
     "metadata": {},
     "output_type": "display_data"
    }
   ],
   "source": [
    "# Plot the distribution of domain length for both legit and dga domains by label\n",
    "df_legit['label'] = 'legit'\n",
    "df_dga['label'] = 'dga'\n",
    "df = feature_extraction(pd.concat([df_legit, df_dga], ignore_index=True))\n",
    "\n",
    "fig, ax = plt.subplots(figsize=(12, 8))\n",
    "df.boxplot(column=['entropy'], by=['label'], ax=ax)\n",
    "ax.set_xlabel('Label')\n",
    "ax.set_ylabel('Domain Entropy')\n",
    "plt.show()"
   ]
  },
  {
   "attachments": {},
   "cell_type": "markdown",
   "metadata": {},
   "source": [
    "We can see that the average entropy is larger for the dga generated domains as is has more randomly generated letters on average compared to the legit domains.  "
   ]
  },
  {
   "cell_type": "code",
   "execution_count": 8,
   "metadata": {},
   "outputs": [
    {
     "data": {
      "image/png": "[encoded data removed]",
      "text/plain": [
       "<Figure size 640x480 with 1 Axes>"
      ]
     },
     "metadata": {},
     "output_type": "display_data"
    }
   ],
   "source": [
    "# Scatter \n",
    "plt.scatter(df_legit['domain_length'], df_legit['entropy'], s=100, color='blue', label='Legit', alpha=0.2)\n",
    "plt.scatter(df_dga['domain_length'], df_dga['entropy'], color='red', label='DGA', alpha=0.3)\n",
    "plt.legend()\n",
    "plt.xlabel('Domain Length')\n",
    "plt.ylabel('Domain Entropy')\n",
    "plt.show()"
   ]
  },
  {
   "cell_type": "code",
   "execution_count": 9,
   "metadata": {},
   "outputs": [
    {
     "name": "stdout",
     "output_type": "stream",
     "text": [
      "                       domain   entropy\n",
      "166     loading-delivery2.com  3.616875\n",
      "57          stackoverflow.com  3.546594\n",
      "72   adnetworkperformance.com  3.546439\n",
      "489        youradexchange.com  3.521641\n",
      "340       ero-advertising.com  3.506891\n",
      "279       liveadexchanger.com  3.456565\n",
      "444     thefreedictionary.com  3.454822\n",
      "147         bankofamerica.com  3.334679\n",
      "210        steamcommunity.com  3.324863\n",
      "134       microsoftonline.com  3.323231\n"
     ]
    }
   ],
   "source": [
    "print(df_legit.nlargest(10, 'entropy').loc[:, ['domain', 'entropy']])"
   ]
  },
  {
   "cell_type": "code",
   "execution_count": 10,
   "metadata": {},
   "outputs": [
    {
     "data": {
      "text/plain": [
       "array([0.93666667, 0.79      , 0.89966555, 0.88628763, 0.72575251])"
      ]
     },
     "execution_count": 10,
     "metadata": {},
     "output_type": "execute_result"
    }
   ],
   "source": [
    "# Check the cross val scores\n",
    "clf = RandomForestClassifier(n_estimators=20, max_depth=5)\n",
    "y = np.array(df['label'].tolist())\n",
    "cross_val_score(clf, df.drop(['domain', 'label'], axis=1), y, cv=5, n_jobs=2)"
   ]
  },
  {
   "attachments": {},
   "cell_type": "markdown",
   "metadata": {},
   "source": [
    "The cross validation scores are not bad, but they could be improved by adding N-grams to our dataset. Firstly, we will need to split our dataset. "
   ]
  },
  {
   "attachments": {},
   "cell_type": "markdown",
   "metadata": {},
   "source": [
    "### Splitting datasets\n",
    "The dataset is already labeled and it is split into a test set and a training set. The indices have been reset so that the missclassified examples could be viewed after evaluation. "
   ]
  },
  {
   "cell_type": "code",
   "execution_count": 11,
   "metadata": {},
   "outputs": [
    {
     "name": "stdout",
     "output_type": "stream",
     "text": [
      "X_train shape:  (1197, 6)\n",
      "y_train shape:  (1197,)\n",
      "X_test shape:  (300, 6)\n",
      "y_test shape:  (300,)\n"
     ]
    }
   ],
   "source": [
    "X = df.drop(['label'], axis=1)\n",
    "y = df['label']\n",
    "X_train, X_test, y_train, y_test = train_test_split(X, y, test_size=0.2)\n",
    "\n",
    "# Resetting the indices to check for missclasssifications later\n",
    "X_train = X_train.reset_index(drop=True)\n",
    "X_test = X_test.reset_index(drop=True)\n",
    "y_train = y_train.reset_index(drop=True)\n",
    "y_test = y_test.reset_index(drop=True)\n",
    "\n",
    "# Print the shapes of the training and testing sets\n",
    "print(\"X_train shape: \", X_train.shape)\n",
    "print(\"y_train shape: \", y_train.shape)\n",
    "print(\"X_test shape: \", X_test.shape)\n",
    "print(\"y_test shape: \", y_test.shape)"
   ]
  },
  {
   "attachments": {},
   "cell_type": "markdown",
   "metadata": {},
   "source": [
    "### Generating and adding N-grams"
   ]
  },
  {
   "cell_type": "code",
   "execution_count": 12,
   "metadata": {},
   "outputs": [],
   "source": [
    "# Adding n-gram features\n",
    "vectorizer = CountVectorizer(ngram_range=(2, 5), analyzer='char')\n",
    "\n",
    "X_train_vec = vectorizer.fit_transform(X_train['domain'])\n",
    "X_train_counts = np.log(X_train_vec.sum(axis=1))\n",
    "X_train['log_counts'] = X_train_counts\n",
    "\n",
    "X_test_vec = vectorizer.transform(X_test['domain'])\n",
    "X_test_counts = np.log(X_test_vec.sum(axis=1))\n",
    "X_test['log_counts'] = X_test_counts"
   ]
  },
  {
   "attachments": {},
   "cell_type": "markdown",
   "metadata": {},
   "source": [
    "### Plotting the N-gram log counts"
   ]
  },
  {
   "cell_type": "code",
   "execution_count": 13,
   "metadata": {},
   "outputs": [
    {
     "data": {
      "image/png": "[encoded data removed]",
      "text/plain": [
       "<Figure size 640x480 with 1 Axes>"
      ]
     },
     "metadata": {},
     "output_type": "display_data"
    }
   ],
   "source": [
    "train_df = pd.concat([X_train, y_train], axis=1)\n",
    "\n",
    "plt.scatter(train_df[train_df['label'] == 'legit']['entropy'], train_df[train_df['label'] == 'legit']['log_counts'], color='blue', label='Legit', alpha=0.3)\n",
    "plt.scatter(train_df[train_df['label'] == 'dga']['entropy'], train_df[train_df['label'] == 'dga']['log_counts'], color='red', label='DGA', alpha=0.1)\n",
    "plt.legend()\n",
    "plt.xlabel('Domain Entropy')\n",
    "plt.ylabel('Log of N-gram Counts')\n",
    "plt.show()"
   ]
  },
  {
   "cell_type": "code",
   "execution_count": 14,
   "metadata": {},
   "outputs": [
    {
     "data": {
      "image/png": "[encoded data removed]",
      "text/plain": [
       "<Figure size 640x480 with 1 Axes>"
      ]
     },
     "metadata": {},
     "output_type": "display_data"
    }
   ],
   "source": [
    "plt.scatter(train_df[train_df['label'] == 'legit']['domain_length'], train_df[train_df['label'] == 'legit']['log_counts'], s = 100, color='blue', label='Legit', alpha=0.3)\n",
    "plt.scatter(train_df[train_df['label'] == 'dga']['domain_length'], train_df[train_df['label'] == 'dga']['log_counts'], color='red', label='DGA', alpha=0.1)\n",
    "plt.legend()\n",
    "plt.xlabel('Domain Length')\n",
    "plt.ylabel('Log of N-gram Counts')\n",
    "plt.show()"
   ]
  },
  {
   "attachments": {},
   "cell_type": "markdown",
   "metadata": {},
   "source": [
    "We can see from the plots that when the logs counts are compared to the domain entropy, the two classes are separate from each other while that comparisson when we compare the domain length and the log count is not as apparent when the domain lenght is between 10 to 15 characters. "
   ]
  },
  {
   "cell_type": "code",
   "execution_count": 15,
   "metadata": {},
   "outputs": [
    {
     "data": {
      "text/plain": [
       "array([0.84583333, 0.875     , 0.87447699, 0.87029289, 0.86192469])"
      ]
     },
     "execution_count": 15,
     "metadata": {},
     "output_type": "execute_result"
    }
   ],
   "source": [
    "# Check the cross val scores\n",
    "clf = RandomForestClassifier(n_estimators=20)\n",
    "cross_val_score(clf, X_train.drop(['domain'], axis=1), y_train, cv=5, n_jobs=2)"
   ]
  },
  {
   "attachments": {},
   "cell_type": "markdown",
   "metadata": {},
   "source": [
    "### Grid Search"
   ]
  },
  {
   "cell_type": "code",
   "execution_count": 29,
   "metadata": {},
   "outputs": [
    {
     "name": "stdout",
     "output_type": "stream",
     "text": [
      "Best hyperparameters:  {'max_depth': 5, 'min_samples_leaf': 1, 'min_samples_split': 5, 'n_estimators': 600}\n",
      "Best score:  0.8830683403068342\n"
     ]
    }
   ],
   "source": [
    "param_grid = {\n",
    "    'n_estimators': [100, 200, 300, 400, 500, 600, 700, 800, 900, 1000],\n",
    "    'max_depth': [5, 7, 10, 12, 15, 17, 20],\n",
    "    'min_samples_split': [2, 5, 7, 10, 15, 20],\n",
    "    'min_samples_leaf': [1, 2, 3, 4, 5, 7, 10]\n",
    "}\n",
    "\n",
    "rf = RandomForestClassifier()\n",
    "\n",
    "# n_jobs=-1 means that the computation will be dispatched on all the available CPU cores to parallelize the search\n",
    "# Create a GridSearchCV object with the specified hyperparameter grid and model\n",
    "grid_search = GridSearchCV(estimator=rf, param_grid=param_grid, cv=5, n_jobs=-1)\n",
    "\n",
    "# Fit the GridSearchCV object to the data\n",
    "grid_search.fit(X_train.drop(['domain'], axis=1), y_train)\n",
    "\n",
    "# Print the best hyperparameters and corresponding score\n",
    "print(\"Best hyperparameters: \", grid_search.best_params_)\n",
    "print(\"Best score: \", grid_search.best_score_)\n",
    "\n",
    "with open('best_params.txt', 'w') as f:\n",
    "    f.write(json.dumps(grid_search.best_params_))\n",
    "\n",
    "with open('best_score.txt', 'w') as f:\n",
    "    f.write(json.dumps(grid_search.best_score_))"
   ]
  },
  {
   "cell_type": "code",
   "execution_count": 30,
   "metadata": {},
   "outputs": [],
   "source": [
    "# Create a new random forest classifier with the best hyperparameters\n",
    "rf_best = RandomForestClassifier(n_estimators=grid_search.best_params_['n_estimators'],\n",
    "                                  max_depth=grid_search.best_params_['max_depth'],\n",
    "                                  min_samples_split=grid_search.best_params_['min_samples_split'],\n",
    "                                  min_samples_leaf=grid_search.best_params_['min_samples_leaf'])"
   ]
  },
  {
   "cell_type": "code",
   "execution_count": 31,
   "metadata": {},
   "outputs": [
    {
     "data": {
      "text/html": [
       "<style>#sk-container-id-2 {color: black;background-color: white;}#sk-container-id-2 pre{padding: 0;}#sk-container-id-2 div.sk-toggleable {background-color: white;}#sk-container-id-2 label.sk-toggleable__label {cursor: pointer;display: block;width: 100%;margin-bottom: 0;padding: 0.3em;box-sizing: border-box;text-align: center;}#sk-container-id-2 label.sk-toggleable__label-arrow:before {content: \"▸\";float: left;margin-right: 0.25em;color: #696969;}#sk-container-id-2 label.sk-toggleable__label-arrow:hover:before {color: black;}#sk-container-id-2 div.sk-estimator:hover label.sk-toggleable__label-arrow:before {color: black;}#sk-container-id-2 div.sk-toggleable__content {max-height: 0;max-width: 0;overflow: hidden;text-align: left;background-color: #f0f8ff;}#sk-container-id-2 div.sk-toggleable__content pre {margin: 0.2em;color: black;border-radius: 0.25em;background-color: #f0f8ff;}#sk-container-id-2 input.sk-toggleable__control:checked~div.sk-toggleable__content {max-height: 200px;max-width: 100%;overflow: auto;}#sk-container-id-2 input.sk-toggleable__control:checked~label.sk-toggleable__label-arrow:before {content: \"▾\";}#sk-container-id-2 div.sk-estimator input.sk-toggleable__control:checked~label.sk-toggleable__label {background-color: #d4ebff;}#sk-container-id-2 div.sk-label input.sk-toggleable__control:checked~label.sk-toggleable__label {background-color: #d4ebff;}#sk-container-id-2 input.sk-hidden--visually {border: 0;clip: rect(1px 1px 1px 1px);clip: rect(1px, 1px, 1px, 1px);height: 1px;margin: -1px;overflow: hidden;padding: 0;position: absolute;width: 1px;}#sk-container-id-2 div.sk-estimator {font-family: monospace;background-color: #f0f8ff;border: 1px dotted black;border-radius: 0.25em;box-sizing: border-box;margin-bottom: 0.5em;}#sk-container-id-2 div.sk-estimator:hover {background-color: #d4ebff;}#sk-container-id-2 div.sk-parallel-item::after {content: \"\";width: 100%;border-bottom: 1px solid gray;flex-grow: 1;}#sk-container-id-2 div.sk-label:hover label.sk-toggleable__label {background-color: #d4ebff;}#sk-container-id-2 div.sk-serial::before {content: \"\";position: absolute;border-left: 1px solid gray;box-sizing: border-box;top: 0;bottom: 0;left: 50%;z-index: 0;}#sk-container-id-2 div.sk-serial {display: flex;flex-direction: column;align-items: center;background-color: white;padding-right: 0.2em;padding-left: 0.2em;position: relative;}#sk-container-id-2 div.sk-item {position: relative;z-index: 1;}#sk-container-id-2 div.sk-parallel {display: flex;align-items: stretch;justify-content: center;background-color: white;position: relative;}#sk-container-id-2 div.sk-item::before, #sk-container-id-2 div.sk-parallel-item::before {content: \"\";position: absolute;border-left: 1px solid gray;box-sizing: border-box;top: 0;bottom: 0;left: 50%;z-index: -1;}#sk-container-id-2 div.sk-parallel-item {display: flex;flex-direction: column;z-index: 1;position: relative;background-color: white;}#sk-container-id-2 div.sk-parallel-item:first-child::after {align-self: flex-end;width: 50%;}#sk-container-id-2 div.sk-parallel-item:last-child::after {align-self: flex-start;width: 50%;}#sk-container-id-2 div.sk-parallel-item:only-child::after {width: 0;}#sk-container-id-2 div.sk-dashed-wrapped {border: 1px dashed gray;margin: 0 0.4em 0.5em 0.4em;box-sizing: border-box;padding-bottom: 0.4em;background-color: white;}#sk-container-id-2 div.sk-label label {font-family: monospace;font-weight: bold;display: inline-block;line-height: 1.2em;}#sk-container-id-2 div.sk-label-container {text-align: center;}#sk-container-id-2 div.sk-container {/* jupyter's `normalize.less` sets `[hidden] { display: none; }` but bootstrap.min.css set `[hidden] { display: none !important; }` so we also need the `!important` here to be able to override the default hidden behavior on the sphinx rendered scikit-learn.org. See: https://github.com/scikit-learn/scikit-learn/issues/21755 */display: inline-block !important;position: relative;}#sk-container-id-2 div.sk-text-repr-fallback {display: none;}</style><div id=\"sk-container-id-2\" class=\"sk-top-container\"><div class=\"sk-text-repr-fallback\"><pre>RandomForestClassifier(max_depth=5, min_samples_split=5, n_estimators=600)</pre><b>In a Jupyter environment, please rerun this cell to show the HTML representation or trust the notebook. <br />On GitHub, the HTML representation is unable to render, please try loading this page with nbviewer.org.</b></div><div class=\"sk-container\" hidden><div class=\"sk-item\"><div class=\"sk-estimator sk-toggleable\"><input class=\"sk-toggleable__control sk-hidden--visually\" id=\"sk-estimator-id-2\" type=\"checkbox\" checked><label for=\"sk-estimator-id-2\" class=\"sk-toggleable__label sk-toggleable__label-arrow\">RandomForestClassifier</label><div class=\"sk-toggleable__content\"><pre>RandomForestClassifier(max_depth=5, min_samples_split=5, n_estimators=600)</pre></div></div></div></div></div>"
      ],
      "text/plain": [
       "RandomForestClassifier(max_depth=5, min_samples_split=5, n_estimators=600)"
      ]
     },
     "execution_count": 31,
     "metadata": {},
     "output_type": "execute_result"
    }
   ],
   "source": [
    "# Fit the new random forest classifier to the entire training dataset\n",
    "rf_best.fit(X_train.drop(['domain'], axis=1), y_train, sample_weight=None)"
   ]
  },
  {
   "cell_type": "code",
   "execution_count": 32,
   "metadata": {},
   "outputs": [
    {
     "name": "stdout",
     "output_type": "stream",
     "text": [
      "Accuracy:  0.8666666666666667\n"
     ]
    }
   ],
   "source": [
    "# Evaluate the performance of the random forest classifier on the testing data\n",
    "accuracy = rf_best.score(X_test.drop(['domain'], axis=1), y_test)\n",
    "print(\"Accuracy: \", accuracy)"
   ]
  },
  {
   "attachments": {},
   "cell_type": "markdown",
   "metadata": {},
   "source": [
    "### Save the model locally"
   ]
  },
  {
   "cell_type": "code",
   "execution_count": 33,
   "metadata": {},
   "outputs": [],
   "source": [
    "pickle.dump(rf_best, open('randomforest.pkl', 'wb'))"
   ]
  },
  {
   "cell_type": "code",
   "execution_count": 34,
   "metadata": {},
   "outputs": [
    {
     "data": {
      "text/plain": [
       "label\n",
       "dga      205\n",
       "legit     95\n",
       "Name: count, dtype: int64"
      ]
     },
     "execution_count": 34,
     "metadata": {},
     "output_type": "execute_result"
    }
   ],
   "source": [
    "y_test.value_counts()"
   ]
  },
  {
   "cell_type": "code",
   "execution_count": 35,
   "metadata": {},
   "outputs": [
    {
     "name": "stdout",
     "output_type": "stream",
     "text": [
      "Confusion matrix:\n",
      "[[192  13]\n",
      " [ 27  68]]\n"
     ]
    },
    {
     "data": {
      "image/png": "[encoded data removed]",
      "text/plain": [
       "<Figure size 640x480 with 2 Axes>"
      ]
     },
     "metadata": {},
     "output_type": "display_data"
    }
   ],
   "source": [
    "# Make predictions on the test set\n",
    "y_pred = rf_best.predict(X_test.drop(['domain'], axis=1))\n",
    "\n",
    "# Calculate the confusion matrix\n",
    "cm = confusion_matrix(y_test, y_pred)\n",
    "print(f\"Confusion matrix:\\n{cm}\")\n",
    "\n",
    "sns.heatmap(cm, annot=True, cmap='Blues', fmt='g', annot_kws={\"fontsize\":10})\n",
    "\n",
    "# Add true positives, true negatives, false positives, and false negatives to the heatmap\n",
    "plt.text(0.45, 0.65, f\"TN\", fontsize=10)\n",
    "plt.text(0.45, 1.65, f\"FN\", fontsize=10)\n",
    "plt.text(1.45, 0.65, f\"FP\", fontsize=10)\n",
    "plt.text(1.45, 1.65, f\"TP\", fontsize=10)\n",
    "\n",
    "# Set the axis labels\n",
    "plt.xlabel('Predicted labels')\n",
    "plt.ylabel('True labels')\n",
    "\n",
    "# Show the plot\n",
    "plt.show()"
   ]
  },
  {
   "attachments": {},
   "cell_type": "markdown",
   "metadata": {},
   "source": [
    "### Calculating the evaluation metrics"
   ]
  },
  {
   "cell_type": "code",
   "execution_count": 36,
   "metadata": {},
   "outputs": [
    {
     "name": "stdout",
     "output_type": "stream",
     "text": [
      "\n",
      "F1 score DGA: 0.9056603773584906\n",
      "\n",
      "F1 score Legit: 0.7727272727272727\n",
      "\n",
      "              precision    recall  f1-score   support\n",
      "\n",
      "         dga       0.88      0.94      0.91       205\n",
      "       legit       0.84      0.72      0.77        95\n",
      "\n",
      "    accuracy                           0.87       300\n",
      "   macro avg       0.86      0.83      0.84       300\n",
      "weighted avg       0.86      0.87      0.86       300\n",
      "\n"
     ]
    }
   ],
   "source": [
    "# Calculate the F1 score for DGA class\n",
    "f1 = f1_score(y_test, y_pred, pos_label='dga')\n",
    "print(f\"\\nF1 score DGA: {f1}\")\n",
    "f1 = f1_score(y_test, y_pred, pos_label='legit')\n",
    "print(f\"\\nF1 score Legit: {f1}\\n\")\n",
    "\n",
    "# Generate the classification report\n",
    "cr = classification_report(y_test, y_pred)\n",
    "# Print the classification report\n",
    "print(cr)"
   ]
  },
  {
   "attachments": {},
   "cell_type": "markdown",
   "metadata": {},
   "source": [
    "We can see that the scores for the dga class are much better compared to the legit class as the model has a lower number of predicted false positives. "
   ]
  },
  {
   "cell_type": "code",
   "execution_count": 37,
   "metadata": {},
   "outputs": [
    {
     "name": "stdout",
     "output_type": "stream",
     "text": [
      "Number of misclassified examples: 40\n"
     ]
    }
   ],
   "source": [
    "# Getting the false positives and negatives\n",
    "\n",
    "# Compare the predicted labels with the true labels\n",
    "misclassified = X_test[y_pred != y_test]\n",
    "\n",
    "# Print the misclassified examples\n",
    "print(f\"Number of misclassified examples: {len(misclassified)}\")"
   ]
  },
  {
   "attachments": {},
   "cell_type": "markdown",
   "metadata": {},
   "source": [
    "### FP and FN analysis"
   ]
  },
  {
   "cell_type": "code",
   "execution_count": 38,
   "metadata": {},
   "outputs": [
    {
     "data": {
      "text/html": [
       "<div>\n",
       "<style scoped>\n",
       "    .dataframe tbody tr th:only-of-type {\n",
       "        vertical-align: middle;\n",
       "    }\n",
       "\n",
       "    .dataframe tbody tr th {\n",
       "        vertical-align: top;\n",
       "    }\n",
       "\n",
       "    .dataframe thead th {\n",
       "        text-align: right;\n",
       "    }\n",
       "</style>\n",
       "<table border=\"1\" class=\"dataframe\">\n",
       "  <thead>\n",
       "    <tr style=\"text-align: right;\">\n",
       "      <th></th>\n",
       "      <th>domain</th>\n",
       "      <th>domain_length</th>\n",
       "      <th>num_digits</th>\n",
       "      <th>num_consonants</th>\n",
       "      <th>num_vowels</th>\n",
       "      <th>entropy</th>\n",
       "      <th>log_counts</th>\n",
       "      <th>label</th>\n",
       "      <th>pred</th>\n",
       "    </tr>\n",
       "  </thead>\n",
       "  <tbody>\n",
       "    <tr>\n",
       "      <th>0</th>\n",
       "      <td>livejasmin.com</td>\n",
       "      <td>10</td>\n",
       "      <td>0</td>\n",
       "      <td>8</td>\n",
       "      <td>5</td>\n",
       "      <td>3.121928</td>\n",
       "      <td>3.433987</td>\n",
       "      <td>legit</td>\n",
       "      <td>dga</td>\n",
       "    </tr>\n",
       "    <tr>\n",
       "      <th>5</th>\n",
       "      <td>snapdeal.com</td>\n",
       "      <td>8</td>\n",
       "      <td>0</td>\n",
       "      <td>7</td>\n",
       "      <td>4</td>\n",
       "      <td>2.750000</td>\n",
       "      <td>3.178054</td>\n",
       "      <td>legit</td>\n",
       "      <td>dga</td>\n",
       "    </tr>\n",
       "    <tr>\n",
       "      <th>6</th>\n",
       "      <td>infusionsoft.com</td>\n",
       "      <td>12</td>\n",
       "      <td>0</td>\n",
       "      <td>9</td>\n",
       "      <td>6</td>\n",
       "      <td>2.751629</td>\n",
       "      <td>3.663562</td>\n",
       "      <td>legit</td>\n",
       "      <td>dga</td>\n",
       "    </tr>\n",
       "    <tr>\n",
       "      <th>7</th>\n",
       "      <td>outbrain.com</td>\n",
       "      <td>8</td>\n",
       "      <td>0</td>\n",
       "      <td>6</td>\n",
       "      <td>5</td>\n",
       "      <td>3.000000</td>\n",
       "      <td>3.178054</td>\n",
       "      <td>legit</td>\n",
       "      <td>dga</td>\n",
       "    </tr>\n",
       "    <tr>\n",
       "      <th>9</th>\n",
       "      <td>youradexchange.com</td>\n",
       "      <td>14</td>\n",
       "      <td>0</td>\n",
       "      <td>10</td>\n",
       "      <td>7</td>\n",
       "      <td>3.521641</td>\n",
       "      <td>4.007333</td>\n",
       "      <td>legit</td>\n",
       "      <td>dga</td>\n",
       "    </tr>\n",
       "    <tr>\n",
       "      <th>12</th>\n",
       "      <td>deviantart.com</td>\n",
       "      <td>10</td>\n",
       "      <td>0</td>\n",
       "      <td>8</td>\n",
       "      <td>5</td>\n",
       "      <td>2.921928</td>\n",
       "      <td>3.367296</td>\n",
       "      <td>legit</td>\n",
       "      <td>dga</td>\n",
       "    </tr>\n",
       "    <tr>\n",
       "      <th>15</th>\n",
       "      <td>lfehajeex.com</td>\n",
       "      <td>9</td>\n",
       "      <td>0</td>\n",
       "      <td>7</td>\n",
       "      <td>5</td>\n",
       "      <td>2.641604</td>\n",
       "      <td>3.178054</td>\n",
       "      <td>dga</td>\n",
       "      <td>legit</td>\n",
       "    </tr>\n",
       "    <tr>\n",
       "      <th>20</th>\n",
       "      <td>netflix.com</td>\n",
       "      <td>7</td>\n",
       "      <td>0</td>\n",
       "      <td>7</td>\n",
       "      <td>3</td>\n",
       "      <td>2.807355</td>\n",
       "      <td>3.091042</td>\n",
       "      <td>legit</td>\n",
       "      <td>dga</td>\n",
       "    </tr>\n",
       "    <tr>\n",
       "      <th>22</th>\n",
       "      <td>olornomle.com</td>\n",
       "      <td>9</td>\n",
       "      <td>0</td>\n",
       "      <td>7</td>\n",
       "      <td>5</td>\n",
       "      <td>2.419382</td>\n",
       "      <td>3.555348</td>\n",
       "      <td>dga</td>\n",
       "      <td>legit</td>\n",
       "    </tr>\n",
       "    <tr>\n",
       "      <th>30</th>\n",
       "      <td>retailmenot.com</td>\n",
       "      <td>11</td>\n",
       "      <td>0</td>\n",
       "      <td>8</td>\n",
       "      <td>6</td>\n",
       "      <td>3.095795</td>\n",
       "      <td>3.433987</td>\n",
       "      <td>legit</td>\n",
       "      <td>dga</td>\n",
       "    </tr>\n",
       "    <tr>\n",
       "      <th>47</th>\n",
       "      <td>pqyluzl.info</td>\n",
       "      <td>7</td>\n",
       "      <td>0</td>\n",
       "      <td>8</td>\n",
       "      <td>3</td>\n",
       "      <td>2.521641</td>\n",
       "      <td>3.135494</td>\n",
       "      <td>dga</td>\n",
       "      <td>legit</td>\n",
       "    </tr>\n",
       "    <tr>\n",
       "      <th>66</th>\n",
       "      <td>ilornifsi.com</td>\n",
       "      <td>9</td>\n",
       "      <td>0</td>\n",
       "      <td>7</td>\n",
       "      <td>5</td>\n",
       "      <td>2.641604</td>\n",
       "      <td>3.367296</td>\n",
       "      <td>dga</td>\n",
       "      <td>legit</td>\n",
       "    </tr>\n",
       "    <tr>\n",
       "      <th>80</th>\n",
       "      <td>llullzza.com</td>\n",
       "      <td>8</td>\n",
       "      <td>0</td>\n",
       "      <td>8</td>\n",
       "      <td>3</td>\n",
       "      <td>1.750000</td>\n",
       "      <td>2.944439</td>\n",
       "      <td>dga</td>\n",
       "      <td>legit</td>\n",
       "    </tr>\n",
       "    <tr>\n",
       "      <th>100</th>\n",
       "      <td>allrecipes.com</td>\n",
       "      <td>10</td>\n",
       "      <td>0</td>\n",
       "      <td>8</td>\n",
       "      <td>5</td>\n",
       "      <td>2.921928</td>\n",
       "      <td>3.332205</td>\n",
       "      <td>legit</td>\n",
       "      <td>dga</td>\n",
       "    </tr>\n",
       "    <tr>\n",
       "      <th>113</th>\n",
       "      <td>terraclicks.com</td>\n",
       "      <td>11</td>\n",
       "      <td>0</td>\n",
       "      <td>10</td>\n",
       "      <td>4</td>\n",
       "      <td>3.095795</td>\n",
       "      <td>3.433987</td>\n",
       "      <td>legit</td>\n",
       "      <td>dga</td>\n",
       "    </tr>\n",
       "    <tr>\n",
       "      <th>118</th>\n",
       "      <td>jcpenney.com</td>\n",
       "      <td>8</td>\n",
       "      <td>0</td>\n",
       "      <td>8</td>\n",
       "      <td>3</td>\n",
       "      <td>2.500000</td>\n",
       "      <td>3.218876</td>\n",
       "      <td>legit</td>\n",
       "      <td>dga</td>\n",
       "    </tr>\n",
       "    <tr>\n",
       "      <th>126</th>\n",
       "      <td>extratorrent.cc</td>\n",
       "      <td>12</td>\n",
       "      <td>0</td>\n",
       "      <td>10</td>\n",
       "      <td>4</td>\n",
       "      <td>2.625815</td>\n",
       "      <td>3.637586</td>\n",
       "      <td>legit</td>\n",
       "      <td>dga</td>\n",
       "    </tr>\n",
       "    <tr>\n",
       "      <th>130</th>\n",
       "      <td>stackexchange.com</td>\n",
       "      <td>13</td>\n",
       "      <td>0</td>\n",
       "      <td>11</td>\n",
       "      <td>5</td>\n",
       "      <td>3.238901</td>\n",
       "      <td>3.931826</td>\n",
       "      <td>legit</td>\n",
       "      <td>dga</td>\n",
       "    </tr>\n",
       "    <tr>\n",
       "      <th>138</th>\n",
       "      <td>wellsfargo.com</td>\n",
       "      <td>10</td>\n",
       "      <td>0</td>\n",
       "      <td>9</td>\n",
       "      <td>4</td>\n",
       "      <td>3.121928</td>\n",
       "      <td>3.332205</td>\n",
       "      <td>legit</td>\n",
       "      <td>dga</td>\n",
       "    </tr>\n",
       "    <tr>\n",
       "      <th>141</th>\n",
       "      <td>iiwezrv.ru</td>\n",
       "      <td>7</td>\n",
       "      <td>0</td>\n",
       "      <td>5</td>\n",
       "      <td>4</td>\n",
       "      <td>2.521641</td>\n",
       "      <td>2.639057</td>\n",
       "      <td>dga</td>\n",
       "      <td>legit</td>\n",
       "    </tr>\n",
       "    <tr>\n",
       "      <th>144</th>\n",
       "      <td>liveinternet.ru</td>\n",
       "      <td>12</td>\n",
       "      <td>0</td>\n",
       "      <td>8</td>\n",
       "      <td>6</td>\n",
       "      <td>2.688722</td>\n",
       "      <td>3.555348</td>\n",
       "      <td>legit</td>\n",
       "      <td>dga</td>\n",
       "    </tr>\n",
       "    <tr>\n",
       "      <th>152</th>\n",
       "      <td>repubblica.it</td>\n",
       "      <td>10</td>\n",
       "      <td>0</td>\n",
       "      <td>7</td>\n",
       "      <td>5</td>\n",
       "      <td>3.121928</td>\n",
       "      <td>3.044522</td>\n",
       "      <td>legit</td>\n",
       "      <td>dga</td>\n",
       "    </tr>\n",
       "    <tr>\n",
       "      <th>153</th>\n",
       "      <td>edvaggo.ru</td>\n",
       "      <td>7</td>\n",
       "      <td>0</td>\n",
       "      <td>5</td>\n",
       "      <td>4</td>\n",
       "      <td>2.521641</td>\n",
       "      <td>2.639057</td>\n",
       "      <td>dga</td>\n",
       "      <td>legit</td>\n",
       "    </tr>\n",
       "    <tr>\n",
       "      <th>158</th>\n",
       "      <td>foxnews.com</td>\n",
       "      <td>7</td>\n",
       "      <td>0</td>\n",
       "      <td>7</td>\n",
       "      <td>3</td>\n",
       "      <td>2.807355</td>\n",
       "      <td>3.295837</td>\n",
       "      <td>legit</td>\n",
       "      <td>dga</td>\n",
       "    </tr>\n",
       "    <tr>\n",
       "      <th>171</th>\n",
       "      <td>mystart.com</td>\n",
       "      <td>7</td>\n",
       "      <td>0</td>\n",
       "      <td>8</td>\n",
       "      <td>2</td>\n",
       "      <td>2.521641</td>\n",
       "      <td>3.258097</td>\n",
       "      <td>legit</td>\n",
       "      <td>dga</td>\n",
       "    </tr>\n",
       "    <tr>\n",
       "      <th>180</th>\n",
       "      <td>gamefaqs.com</td>\n",
       "      <td>8</td>\n",
       "      <td>0</td>\n",
       "      <td>7</td>\n",
       "      <td>4</td>\n",
       "      <td>2.750000</td>\n",
       "      <td>3.091042</td>\n",
       "      <td>legit</td>\n",
       "      <td>dga</td>\n",
       "    </tr>\n",
       "    <tr>\n",
       "      <th>187</th>\n",
       "      <td>blogspot.com</td>\n",
       "      <td>8</td>\n",
       "      <td>0</td>\n",
       "      <td>8</td>\n",
       "      <td>3</td>\n",
       "      <td>2.750000</td>\n",
       "      <td>3.637586</td>\n",
       "      <td>legit</td>\n",
       "      <td>dga</td>\n",
       "    </tr>\n",
       "    <tr>\n",
       "      <th>202</th>\n",
       "      <td>theguardian.com</td>\n",
       "      <td>11</td>\n",
       "      <td>0</td>\n",
       "      <td>8</td>\n",
       "      <td>6</td>\n",
       "      <td>3.277613</td>\n",
       "      <td>3.367296</td>\n",
       "      <td>legit</td>\n",
       "      <td>dga</td>\n",
       "    </tr>\n",
       "    <tr>\n",
       "      <th>206</th>\n",
       "      <td>vpecoeg.cc</td>\n",
       "      <td>7</td>\n",
       "      <td>0</td>\n",
       "      <td>6</td>\n",
       "      <td>3</td>\n",
       "      <td>2.521641</td>\n",
       "      <td>2.772589</td>\n",
       "      <td>dga</td>\n",
       "      <td>legit</td>\n",
       "    </tr>\n",
       "    <tr>\n",
       "      <th>207</th>\n",
       "      <td>smutloo.name</td>\n",
       "      <td>7</td>\n",
       "      <td>0</td>\n",
       "      <td>6</td>\n",
       "      <td>5</td>\n",
       "      <td>2.521641</td>\n",
       "      <td>3.218876</td>\n",
       "      <td>dga</td>\n",
       "      <td>legit</td>\n",
       "    </tr>\n",
       "    <tr>\n",
       "      <th>213</th>\n",
       "      <td>sberbank.ru</td>\n",
       "      <td>8</td>\n",
       "      <td>0</td>\n",
       "      <td>7</td>\n",
       "      <td>3</td>\n",
       "      <td>2.750000</td>\n",
       "      <td>3.091042</td>\n",
       "      <td>legit</td>\n",
       "      <td>dga</td>\n",
       "    </tr>\n",
       "    <tr>\n",
       "      <th>223</th>\n",
       "      <td>plarium.com</td>\n",
       "      <td>7</td>\n",
       "      <td>0</td>\n",
       "      <td>6</td>\n",
       "      <td>4</td>\n",
       "      <td>2.807355</td>\n",
       "      <td>3.332205</td>\n",
       "      <td>legit</td>\n",
       "      <td>dga</td>\n",
       "    </tr>\n",
       "    <tr>\n",
       "      <th>225</th>\n",
       "      <td>accuweather.com</td>\n",
       "      <td>11</td>\n",
       "      <td>0</td>\n",
       "      <td>8</td>\n",
       "      <td>6</td>\n",
       "      <td>2.913977</td>\n",
       "      <td>3.663562</td>\n",
       "      <td>legit</td>\n",
       "      <td>dga</td>\n",
       "    </tr>\n",
       "    <tr>\n",
       "      <th>236</th>\n",
       "      <td>thefreedictionary.com</td>\n",
       "      <td>17</td>\n",
       "      <td>0</td>\n",
       "      <td>12</td>\n",
       "      <td>8</td>\n",
       "      <td>3.454822</td>\n",
       "      <td>3.806662</td>\n",
       "      <td>legit</td>\n",
       "      <td>dga</td>\n",
       "    </tr>\n",
       "    <tr>\n",
       "      <th>259</th>\n",
       "      <td>fheaeenck.net</td>\n",
       "      <td>9</td>\n",
       "      <td>0</td>\n",
       "      <td>7</td>\n",
       "      <td>5</td>\n",
       "      <td>2.641604</td>\n",
       "      <td>3.218876</td>\n",
       "      <td>dga</td>\n",
       "      <td>legit</td>\n",
       "    </tr>\n",
       "    <tr>\n",
       "      <th>263</th>\n",
       "      <td>masarwum.com</td>\n",
       "      <td>8</td>\n",
       "      <td>0</td>\n",
       "      <td>7</td>\n",
       "      <td>4</td>\n",
       "      <td>2.500000</td>\n",
       "      <td>3.433987</td>\n",
       "      <td>dga</td>\n",
       "      <td>legit</td>\n",
       "    </tr>\n",
       "    <tr>\n",
       "      <th>274</th>\n",
       "      <td>kickstarter.com</td>\n",
       "      <td>11</td>\n",
       "      <td>0</td>\n",
       "      <td>10</td>\n",
       "      <td>4</td>\n",
       "      <td>2.913977</td>\n",
       "      <td>3.496508</td>\n",
       "      <td>legit</td>\n",
       "      <td>dga</td>\n",
       "    </tr>\n",
       "    <tr>\n",
       "      <th>283</th>\n",
       "      <td>itkeix.eu</td>\n",
       "      <td>6</td>\n",
       "      <td>0</td>\n",
       "      <td>3</td>\n",
       "      <td>5</td>\n",
       "      <td>2.251629</td>\n",
       "      <td>2.708050</td>\n",
       "      <td>dga</td>\n",
       "      <td>legit</td>\n",
       "    </tr>\n",
       "    <tr>\n",
       "      <th>291</th>\n",
       "      <td>slideshare.net</td>\n",
       "      <td>10</td>\n",
       "      <td>0</td>\n",
       "      <td>8</td>\n",
       "      <td>5</td>\n",
       "      <td>2.921928</td>\n",
       "      <td>3.465736</td>\n",
       "      <td>legit</td>\n",
       "      <td>dga</td>\n",
       "    </tr>\n",
       "    <tr>\n",
       "      <th>296</th>\n",
       "      <td>arpeiezki.org</td>\n",
       "      <td>9</td>\n",
       "      <td>0</td>\n",
       "      <td>6</td>\n",
       "      <td>6</td>\n",
       "      <td>2.725481</td>\n",
       "      <td>2.944439</td>\n",
       "      <td>dga</td>\n",
       "      <td>legit</td>\n",
       "    </tr>\n",
       "  </tbody>\n",
       "</table>\n",
       "</div>"
      ],
      "text/plain": [
       "                    domain  domain_length  num_digits  num_consonants   \n",
       "0           livejasmin.com             10           0               8  \\\n",
       "5             snapdeal.com              8           0               7   \n",
       "6         infusionsoft.com             12           0               9   \n",
       "7             outbrain.com              8           0               6   \n",
       "9       youradexchange.com             14           0              10   \n",
       "12          deviantart.com             10           0               8   \n",
       "15           lfehajeex.com              9           0               7   \n",
       "20             netflix.com              7           0               7   \n",
       "22           olornomle.com              9           0               7   \n",
       "30         retailmenot.com             11           0               8   \n",
       "47            pqyluzl.info              7           0               8   \n",
       "66           ilornifsi.com              9           0               7   \n",
       "80            llullzza.com              8           0               8   \n",
       "100         allrecipes.com             10           0               8   \n",
       "113        terraclicks.com             11           0              10   \n",
       "118           jcpenney.com              8           0               8   \n",
       "126        extratorrent.cc             12           0              10   \n",
       "130      stackexchange.com             13           0              11   \n",
       "138         wellsfargo.com             10           0               9   \n",
       "141             iiwezrv.ru              7           0               5   \n",
       "144        liveinternet.ru             12           0               8   \n",
       "152          repubblica.it             10           0               7   \n",
       "153             edvaggo.ru              7           0               5   \n",
       "158            foxnews.com              7           0               7   \n",
       "171            mystart.com              7           0               8   \n",
       "180           gamefaqs.com              8           0               7   \n",
       "187           blogspot.com              8           0               8   \n",
       "202        theguardian.com             11           0               8   \n",
       "206             vpecoeg.cc              7           0               6   \n",
       "207           smutloo.name              7           0               6   \n",
       "213            sberbank.ru              8           0               7   \n",
       "223            plarium.com              7           0               6   \n",
       "225        accuweather.com             11           0               8   \n",
       "236  thefreedictionary.com             17           0              12   \n",
       "259          fheaeenck.net              9           0               7   \n",
       "263           masarwum.com              8           0               7   \n",
       "274        kickstarter.com             11           0              10   \n",
       "283              itkeix.eu              6           0               3   \n",
       "291         slideshare.net             10           0               8   \n",
       "296          arpeiezki.org              9           0               6   \n",
       "\n",
       "     num_vowels   entropy  log_counts  label   pred  \n",
       "0             5  3.121928    3.433987  legit    dga  \n",
       "5             4  2.750000    3.178054  legit    dga  \n",
       "6             6  2.751629    3.663562  legit    dga  \n",
       "7             5  3.000000    3.178054  legit    dga  \n",
       "9             7  3.521641    4.007333  legit    dga  \n",
       "12            5  2.921928    3.367296  legit    dga  \n",
       "15            5  2.641604    3.178054    dga  legit  \n",
       "20            3  2.807355    3.091042  legit    dga  \n",
       "22            5  2.419382    3.555348    dga  legit  \n",
       "30            6  3.095795    3.433987  legit    dga  \n",
       "47            3  2.521641    3.135494    dga  legit  \n",
       "66            5  2.641604    3.367296    dga  legit  \n",
       "80            3  1.750000    2.944439    dga  legit  \n",
       "100           5  2.921928    3.332205  legit    dga  \n",
       "113           4  3.095795    3.433987  legit    dga  \n",
       "118           3  2.500000    3.218876  legit    dga  \n",
       "126           4  2.625815    3.637586  legit    dga  \n",
       "130           5  3.238901    3.931826  legit    dga  \n",
       "138           4  3.121928    3.332205  legit    dga  \n",
       "141           4  2.521641    2.639057    dga  legit  \n",
       "144           6  2.688722    3.555348  legit    dga  \n",
       "152           5  3.121928    3.044522  legit    dga  \n",
       "153           4  2.521641    2.639057    dga  legit  \n",
       "158           3  2.807355    3.295837  legit    dga  \n",
       "171           2  2.521641    3.258097  legit    dga  \n",
       "180           4  2.750000    3.091042  legit    dga  \n",
       "187           3  2.750000    3.637586  legit    dga  \n",
       "202           6  3.277613    3.367296  legit    dga  \n",
       "206           3  2.521641    2.772589    dga  legit  \n",
       "207           5  2.521641    3.218876    dga  legit  \n",
       "213           3  2.750000    3.091042  legit    dga  \n",
       "223           4  2.807355    3.332205  legit    dga  \n",
       "225           6  2.913977    3.663562  legit    dga  \n",
       "236           8  3.454822    3.806662  legit    dga  \n",
       "259           5  2.641604    3.218876    dga  legit  \n",
       "263           4  2.500000    3.433987    dga  legit  \n",
       "274           4  2.913977    3.496508  legit    dga  \n",
       "283           5  2.251629    2.708050    dga  legit  \n",
       "291           5  2.921928    3.465736  legit    dga  \n",
       "296           6  2.725481    2.944439    dga  legit  "
      ]
     },
     "execution_count": 38,
     "metadata": {},
     "output_type": "execute_result"
    }
   ],
   "source": [
    "pd.set_option('display.max_rows', None)\n",
    "pd.set_option('display.max_columns', None)\n",
    "\n",
    "misclassified_indices = np.unique(misclassified.index.values)\n",
    "\n",
    "misclassified_examples = X_test.iloc[misclassified_indices].copy()\n",
    "\n",
    "misclassified_pred = y_pred[misclassified_indices]\n",
    "misclassified_label = y_test[misclassified_indices]\n",
    "\n",
    "misclassified_examples['label'] = misclassified_label\n",
    "misclassified_examples['pred'] = misclassified_pred\n",
    "\n",
    "misclassified_examples"
   ]
  },
  {
   "attachments": {},
   "cell_type": "markdown",
   "metadata": {},
   "source": [
    "# Conclusion\n",
    "\n",
    "Multiple models where considered for this solution, but the Random Forest classifier what used for its simplicity in use and the inherent properties of the malicious domains, such as a higher entropy, larger domain lenght, fast training and inference time (compared to deeper models). \n",
    "\n",
    "The addition of the following features:\n",
    "- num_digits - The number of digits in the domain name\n",
    "- num_consonants - The number of consonant in the domain name\n",
    "- num_vowels - The number of vowels in the domain name\n",
    "\n",
    "have been added as I have found out that the addition of these features has lowered the number of false positives to a minimum considering the provided dataset size (compared to using simply domain_lenght, entropy and log_counts).\n",
    "\n",
    "The biggest hit on the accuracy of the model comes from the number of false negatives, this could surely be improved with further feature engineering and a larger dataset. I believe the biggest problem with the false negatives comes from their bigger domain length and larger entropy values. \n",
    "\n",
    "Further improvements could be made as was mentioned, by obtaining a dataset of valid domains and generating the malicious domains from this repo:\n",
    "https://github.com/baderj/domain_generation_algorithms\n",
    "\n",
    "Furthermore, an LSTM could be used for this case as well, but that would require a large dataset as it is a deep learning (NLP) model and more training time. "
   ]
  }
 ],
 "metadata": {
  "kernelspec": {
   "display_name": ".env",
   "language": "python",
   "name": "python3"
  },
  "language_info": {
   "codemirror_mode": {
    "name": "ipython",
    "version": 3
   },
   "file_extension": ".py",
   "mimetype": "text/x-python",
   "name": "python",
   "nbconvert_exporter": "python",
   "pygments_lexer": "ipython3",
   "version": "3.10.6"
  },
  "orig_nbformat": 4
 },
 "nbformat": 4,
 "nbformat_minor": 2
}
